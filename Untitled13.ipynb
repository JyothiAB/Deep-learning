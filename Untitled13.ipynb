{
  "nbformat": 4,
  "nbformat_minor": 0,
  "metadata": {
    "colab": {
      "name": "Untitled13.ipynb",
      "provenance": [],
      "authorship_tag": "ABX9TyOwPjqNhuNCDB+Nf9xz3MNc"
    },
    "kernelspec": {
      "name": "python3",
      "display_name": "Python 3"
    },
    "language_info": {
      "name": "python"
    },
    "accelerator": "GPU"
  },
  "cells": [
    {
      "cell_type": "code",
      "execution_count": 1,
      "metadata": {
        "id": "L4HLxE6hBGK3"
      },
      "outputs": [],
      "source": [
        "#Small Image Classification Using Convolutional Neural Network (CNN)\n",
        "import tensorflow as tf\n",
        "from tensorflow .keras import layers, datasets, models\n",
        "import matplotlib.pyplot as plt\n",
        "import numpy as np"
      ]
    },
    {
      "cell_type": "code",
      "source": [
        "#Load data\n",
        "(x_train,y_train),(x_test,y_test) = datasets.cifar10.load_data()"
      ],
      "metadata": {
        "colab": {
          "base_uri": "https://localhost:8080/"
        },
        "id": "gWR1olMhCNNu",
        "outputId": "e9a51cf0-3bbc-4c9d-d2a2-ebe4dc153d6c"
      },
      "execution_count": 2,
      "outputs": [
        {
          "output_type": "stream",
          "name": "stdout",
          "text": [
            "Downloading data from https://www.cs.toronto.edu/~kriz/cifar-10-python.tar.gz\n",
            "170500096/170498071 [==============================] - 2s 0us/step\n",
            "170508288/170498071 [==============================] - 2s 0us/step\n"
          ]
        }
      ]
    },
    {
      "cell_type": "code",
      "source": [
        "x_train.shape"
      ],
      "metadata": {
        "colab": {
          "base_uri": "https://localhost:8080/"
        },
        "id": "9qfyCZnGClr7",
        "outputId": "a0873ca5-65bd-4f7c-c049-b7f01cda8375"
      },
      "execution_count": 3,
      "outputs": [
        {
          "output_type": "execute_result",
          "data": {
            "text/plain": [
              "(50000, 32, 32, 3)"
            ]
          },
          "metadata": {},
          "execution_count": 3
        }
      ]
    },
    {
      "cell_type": "code",
      "source": [
        "y_train.shape"
      ],
      "metadata": {
        "colab": {
          "base_uri": "https://localhost:8080/"
        },
        "id": "yiMImSp_CwVu",
        "outputId": "d3830d14-65ca-4be7-8f51-e35b6c2781f0"
      },
      "execution_count": 4,
      "outputs": [
        {
          "output_type": "execute_result",
          "data": {
            "text/plain": [
              "(50000, 1)"
            ]
          },
          "metadata": {},
          "execution_count": 4
        }
      ]
    },
    {
      "cell_type": "code",
      "source": [
        "np.unique(y_train)"
      ],
      "metadata": {
        "colab": {
          "base_uri": "https://localhost:8080/"
        },
        "id": "TOa4lTzqCzJQ",
        "outputId": "ad949f23-940e-421b-bf2e-ca51d1a70da6"
      },
      "execution_count": 5,
      "outputs": [
        {
          "output_type": "execute_result",
          "data": {
            "text/plain": [
              "array([0, 1, 2, 3, 4, 5, 6, 7, 8, 9], dtype=uint8)"
            ]
          },
          "metadata": {},
          "execution_count": 5
        }
      ]
    },
    {
      "cell_type": "code",
      "source": [
        "x_test.shape"
      ],
      "metadata": {
        "colab": {
          "base_uri": "https://localhost:8080/"
        },
        "id": "JLann8IdC4Ar",
        "outputId": "c2579bbe-2281-4b19-954c-bc2fcb52c533"
      },
      "execution_count": 6,
      "outputs": [
        {
          "output_type": "execute_result",
          "data": {
            "text/plain": [
              "(10000, 32, 32, 3)"
            ]
          },
          "metadata": {},
          "execution_count": 6
        }
      ]
    },
    {
      "cell_type": "code",
      "source": [
        "y_test.shape"
      ],
      "metadata": {
        "colab": {
          "base_uri": "https://localhost:8080/"
        },
        "id": "SQu0VSAvC9bt",
        "outputId": "06a94e4d-c6b9-4796-ae9b-3d4acb56bb37"
      },
      "execution_count": 11,
      "outputs": [
        {
          "output_type": "execute_result",
          "data": {
            "text/plain": [
              "(10000, 1)"
            ]
          },
          "metadata": {},
          "execution_count": 11
        }
      ]
    },
    {
      "cell_type": "code",
      "source": [
        "y_train[:5]"
      ],
      "metadata": {
        "colab": {
          "base_uri": "https://localhost:8080/"
        },
        "id": "EpzVEQzdELmp",
        "outputId": "1a396eca-2a45-46bb-ebc5-01bf1d545276"
      },
      "execution_count": 13,
      "outputs": [
        {
          "output_type": "execute_result",
          "data": {
            "text/plain": [
              "array([[6],\n",
              "       [9],\n",
              "       [9],\n",
              "       [4],\n",
              "       [1]], dtype=uint8)"
            ]
          },
          "metadata": {},
          "execution_count": 13
        }
      ]
    },
    {
      "cell_type": "code",
      "source": [
        "y_train = y_train.reshape(-1,)\n",
        "y_train.shape"
      ],
      "metadata": {
        "colab": {
          "base_uri": "https://localhost:8080/"
        },
        "id": "59Zhp8JfEQ9h",
        "outputId": "293769c6-3847-4db8-cbd4-c4a7a9f4adf1"
      },
      "execution_count": 14,
      "outputs": [
        {
          "output_type": "execute_result",
          "data": {
            "text/plain": [
              "(50000,)"
            ]
          },
          "metadata": {},
          "execution_count": 14
        }
      ]
    },
    {
      "cell_type": "code",
      "source": [
        "y_train[:5]"
      ],
      "metadata": {
        "colab": {
          "base_uri": "https://localhost:8080/"
        },
        "id": "SoupfIuDEhqZ",
        "outputId": "59449a47-4f7e-4320-a768-f69efa7f9c11"
      },
      "execution_count": 15,
      "outputs": [
        {
          "output_type": "execute_result",
          "data": {
            "text/plain": [
              "array([6, 9, 9, 4, 1], dtype=uint8)"
            ]
          },
          "metadata": {},
          "execution_count": 15
        }
      ]
    },
    {
      "cell_type": "code",
      "source": [
        "y_test = y_test.reshape(-1,)"
      ],
      "metadata": {
        "id": "Uk-eY0D9Eo9d"
      },
      "execution_count": 16,
      "outputs": []
    },
    {
      "cell_type": "code",
      "source": [
        "y_names =  [\"airplane\",\"automobile\",\"bird\",\"cat\",\"deer\",\"dog\",\"frog\",\"horse\",\"ship\",\"truck\"]\n",
        "def plot(x,y,index):\n",
        "  plt.figure(figsize=(10,2))\n",
        "  plt.imshow(x[index])\n",
        "  plt.xlabel(y_names[y[index]])\n"
      ],
      "metadata": {
        "id": "gG_SBB0WDAIH"
      },
      "execution_count": 17,
      "outputs": []
    },
    {
      "cell_type": "code",
      "source": [
        "plot(x_train,y_train,5)"
      ],
      "metadata": {
        "colab": {
          "base_uri": "https://localhost:8080/",
          "height": 173
        },
        "id": "gRbVG4pjD7kS",
        "outputId": "ff2fc8ce-fd80-4946-dd58-72036ecca4d7"
      },
      "execution_count": 18,
      "outputs": [
        {
          "output_type": "display_data",
          "data": {
            "text/plain": [
              "<Figure size 720x144 with 1 Axes>"
            ],
            "image/png": "[encoded data removed]"
          },
          "metadata": {
            "needs_background": "light"
          }
        }
      ]
    },
    {
      "cell_type": "code",
      "source": [
        "plot(x_train,y_train,25)"
      ],
      "metadata": {
        "colab": {
          "base_uri": "https://localhost:8080/",
          "height": 173
        },
        "id": "x6ouxtzHE0xs",
        "outputId": "e321c016-0254-4a17-8361-4e1ef67fecd3"
      },
      "execution_count": 19,
      "outputs": [
        {
          "output_type": "display_data",
          "data": {
            "text/plain": [
              "<Figure size 720x144 with 1 Axes>"
            ],
            "image/png": "[encoded data removed]"
          },
          "metadata": {
            "needs_background": "light"
          }
        }
      ]
    },
    {
      "cell_type": "code",
      "source": [
        "#Normalize the data\n",
        "x_train = x_train/255\n",
        "x_test = x_test/255"
      ],
      "metadata": {
        "id": "8qqJgfoFD_ke"
      },
      "execution_count": 20,
      "outputs": []
    },
    {
      "cell_type": "code",
      "source": [
        "x_train.shape,x_test.shape"
      ],
      "metadata": {
        "colab": {
          "base_uri": "https://localhost:8080/"
        },
        "id": "yMjlKvOdFpJS",
        "outputId": "f5f3e574-5e9f-4fe4-abba-2edcce2deb32"
      },
      "execution_count": 21,
      "outputs": [
        {
          "output_type": "execute_result",
          "data": {
            "text/plain": [
              "((50000, 32, 32, 3), (10000, 32, 32, 3))"
            ]
          },
          "metadata": {},
          "execution_count": 21
        }
      ]
    },
    {
      "cell_type": "code",
      "source": [
        "32*32*3"
      ],
      "metadata": {
        "colab": {
          "base_uri": "https://localhost:8080/"
        },
        "id": "PRlOalbNFtgk",
        "outputId": "5492bd7b-4a52-4d16-c338-1b6c4f0d34c5"
      },
      "execution_count": 22,
      "outputs": [
        {
          "output_type": "execute_result",
          "data": {
            "text/plain": [
              "3072"
            ]
          },
          "metadata": {},
          "execution_count": 22
        }
      ]
    },
    {
      "cell_type": "code",
      "source": [
        ""
      ],
      "metadata": {
        "id": "TmXsfmtnGcDq"
      },
      "execution_count": null,
      "outputs": []
    },
    {
      "cell_type": "code",
      "source": [
        "#Implement ANN and generate classification report\n",
        "ann = models.Sequential([\n",
        "                        #input shape is from x_train.shape, where we have 50000 images with 32 X 32 for RGB values\n",
        "                        layers.Flatten(input_shape = (32,32,3)),\n",
        "                        #Neuron from 32 * 32 *3\n",
        "                        layers.Dense(3072,activation = 'relu'),\n",
        "                        layers.Dense(10, activation = 'sigmoid')                     \n",
        "])\n",
        "\n",
        "ann.compile(optimizer = 'adam',\n",
        "            loss = 'sparse_categorical_crossentropy',\n",
        "            metrics = ['accuracy'])"
      ],
      "metadata": {
        "id": "LPN-m_wHE5qY"
      },
      "execution_count": 27,
      "outputs": []
    },
    {
      "cell_type": "code",
      "source": [
        "ann.fit(x_train,y_train, epochs = 5)"
      ],
      "metadata": {
        "colab": {
          "base_uri": "https://localhost:8080/"
        },
        "id": "taqJlllZHqIR",
        "outputId": "82b70eb7-7f0c-4eb8-da8b-3c3894975736"
      },
      "execution_count": 29,
      "outputs": [
        {
          "output_type": "stream",
          "name": "stdout",
          "text": [
            "Epoch 1/5\n",
            "1563/1563 [==============================] - 12s 8ms/step - loss: 1.6902 - accuracy: 0.3964\n",
            "Epoch 2/5\n",
            "1563/1563 [==============================] - 12s 8ms/step - loss: 1.6188 - accuracy: 0.4244\n",
            "Epoch 3/5\n",
            "1563/1563 [==============================] - 12s 8ms/step - loss: 1.5669 - accuracy: 0.4438\n",
            "Epoch 4/5\n",
            "1563/1563 [==============================] - 13s 8ms/step - loss: 1.5425 - accuracy: 0.4518\n",
            "Epoch 5/5\n",
            "1563/1563 [==============================] - 12s 8ms/step - loss: 1.5124 - accuracy: 0.4653\n"
          ]
        },
        {
          "output_type": "execute_result",
          "data": {
            "text/plain": [
              "<keras.callbacks.History at 0x7fa88421d710>"
            ]
          },
          "metadata": {},
          "execution_count": 29
        }
      ]
    },
    {
      "cell_type": "code",
      "source": [
        "ann.evaluate(x_test,y_test)"
      ],
      "metadata": {
        "colab": {
          "base_uri": "https://localhost:8080/"
        },
        "id": "2i17J53nH1dO",
        "outputId": "84b2e123-4256-477a-e88a-cc16efb9b1c6"
      },
      "execution_count": 31,
      "outputs": [
        {
          "output_type": "stream",
          "name": "stdout",
          "text": [
            "313/313 [==============================] - 1s 4ms/step - loss: 1.5466 - accuracy: 0.4492\n"
          ]
        },
        {
          "output_type": "execute_result",
          "data": {
            "text/plain": [
              "[1.5465532541275024, 0.44920000433921814]"
            ]
          },
          "metadata": {},
          "execution_count": 31
        }
      ]
    },
    {
      "cell_type": "code",
      "source": [
        "y_pred_ann = ann.predict(x_test)"
      ],
      "metadata": {
        "id": "UgifjVXZIfFI"
      },
      "execution_count": 32,
      "outputs": []
    },
    {
      "cell_type": "code",
      "source": [
        "y_pred_ann"
      ],
      "metadata": {
        "colab": {
          "base_uri": "https://localhost:8080/"
        },
        "id": "mn7-m-8DImOn",
        "outputId": "d6d7dfc0-0f33-4bf4-93ec-3278b68c0fee"
      },
      "execution_count": 33,
      "outputs": [
        {
          "output_type": "execute_result",
          "data": {
            "text/plain": [
              "array([[0.56008345, 0.27791902, 0.8897098 , ..., 0.01209546, 0.86758775,\n",
              "        0.0532889 ],\n",
              "       [0.4342328 , 0.9105296 , 0.11666254, ..., 0.00884185, 0.94279677,\n",
              "        0.9878781 ],\n",
              "       [0.8711744 , 0.8354659 , 0.23917396, ..., 0.03451238, 0.92062664,\n",
              "        0.94239134],\n",
              "       ...,\n",
              "       [0.06349495, 0.04257624, 0.5582838 , ..., 0.43249184, 0.21283148,\n",
              "        0.10591514],\n",
              "       [0.1875479 , 0.14219563, 0.7205532 , ..., 0.16408503, 0.03088045,\n",
              "        0.17924976],\n",
              "       [0.5025956 , 0.0959843 , 0.75658625, ..., 0.8905015 , 0.08264312,\n",
              "        0.24712206]], dtype=float32)"
            ]
          },
          "metadata": {},
          "execution_count": 33
        }
      ]
    },
    {
      "cell_type": "code",
      "source": [
        "y_pred = []\n",
        "for i in y_pred_ann:\n",
        "  y_pred.append(np.argmax(i))"
      ],
      "metadata": {
        "id": "sNZugRvyIoq_"
      },
      "execution_count": 42,
      "outputs": []
    },
    {
      "cell_type": "code",
      "source": [
        "y_pred[:10]"
      ],
      "metadata": {
        "colab": {
          "base_uri": "https://localhost:8080/"
        },
        "id": "f4tMYujaJhs_",
        "outputId": "54a67440-45c0-4d7d-ca9c-6cac9579dafb"
      },
      "execution_count": 44,
      "outputs": [
        {
          "output_type": "execute_result",
          "data": {
            "text/plain": [
              "[2, 9, 9, 8, 4, 6, 3, 6, 2, 1]"
            ]
          },
          "metadata": {},
          "execution_count": 44
        }
      ]
    },
    {
      "cell_type": "code",
      "source": [
        "from sklearn.metrics import classification_report\n",
        "print(classification_report(y_test,y_pred))"
      ],
      "metadata": {
        "colab": {
          "base_uri": "https://localhost:8080/"
        },
        "id": "P-UPVXoOHt0x",
        "outputId": "dffc4401-65d7-42b2-cf12-d346535ceb1f"
      },
      "execution_count": 46,
      "outputs": [
        {
          "output_type": "stream",
          "name": "stdout",
          "text": [
            "              precision    recall  f1-score   support\n",
            "\n",
            "           0       0.53      0.47      0.50      1000\n",
            "           1       0.66      0.36      0.46      1000\n",
            "           2       0.30      0.46      0.37      1000\n",
            "           3       0.35      0.29      0.32      1000\n",
            "           4       0.42      0.34      0.37      1000\n",
            "           5       0.47      0.24      0.32      1000\n",
            "           6       0.48      0.54      0.51      1000\n",
            "           7       0.58      0.45      0.50      1000\n",
            "           8       0.52      0.65      0.58      1000\n",
            "           9       0.40      0.70      0.51      1000\n",
            "\n",
            "    accuracy                           0.45     10000\n",
            "   macro avg       0.47      0.45      0.44     10000\n",
            "weighted avg       0.47      0.45      0.44     10000\n",
            "\n"
          ]
        }
      ]
    },
    {
      "cell_type": "code",
      "source": [
        "#Implement cnn model and generate classification report\n",
        "cnn = models.Sequential([\n",
        "                         #Convolution/Filters + Relu, Pooling\n",
        "                         layers.Conv2D(filters = 64, kernel_size = (3,3), activation='relu'),\n",
        "                         layers.MaxPool2D(pool_size=(2,2)),\n",
        "                         #ANN \n",
        "                         layers.Flatten(),\n",
        "                         layers.Dense(100,activation = 'relu'),\n",
        "                         layers.Dense(10, activation = 'sigmoid')\n",
        "])\n",
        "\n",
        "cnn.compile(optimizer='adam',\n",
        "            loss = 'sparse_categorical_crossentropy',\n",
        "            metrics = ['accuracy'])\n",
        "                         "
      ],
      "metadata": {
        "id": "FO66mt79KOe2"
      },
      "execution_count": 58,
      "outputs": []
    },
    {
      "cell_type": "code",
      "source": [
        "cnn.fit(x_train,y_train,epochs=5)"
      ],
      "metadata": {
        "colab": {
          "base_uri": "https://localhost:8080/"
        },
        "id": "6IDFYZSmMjXQ",
        "outputId": "c1481961-ef4f-4b00-a882-967ade98f41d"
      },
      "execution_count": 59,
      "outputs": [
        {
          "output_type": "stream",
          "name": "stdout",
          "text": [
            "Epoch 1/5\n",
            "1563/1563 [==============================] - 10s 6ms/step - loss: 1.4337 - accuracy: 0.4881\n",
            "Epoch 2/5\n",
            "1563/1563 [==============================] - 9s 6ms/step - loss: 1.1130 - accuracy: 0.6105\n",
            "Epoch 3/5\n",
            "1563/1563 [==============================] - 9s 6ms/step - loss: 0.9774 - accuracy: 0.6609\n",
            "Epoch 4/5\n",
            "1563/1563 [==============================] - 9s 6ms/step - loss: 0.8846 - accuracy: 0.6936\n",
            "Epoch 5/5\n",
            "1563/1563 [==============================] - 9s 6ms/step - loss: 0.8013 - accuracy: 0.7204\n"
          ]
        },
        {
          "output_type": "execute_result",
          "data": {
            "text/plain": [
              "<keras.callbacks.History at 0x7fa886e69f10>"
            ]
          },
          "metadata": {},
          "execution_count": 59
        }
      ]
    },
    {
      "cell_type": "code",
      "source": [
        "cnn.evaluate(x_test,y_test)"
      ],
      "metadata": {
        "colab": {
          "base_uri": "https://localhost:8080/"
        },
        "id": "-hV6jbA8NZvT",
        "outputId": "e2bb850e-4d12-4c71-8ae2-2df3c21d5433"
      },
      "execution_count": 60,
      "outputs": [
        {
          "output_type": "stream",
          "name": "stdout",
          "text": [
            "313/313 [==============================] - 2s 6ms/step - loss: 1.0931 - accuracy: 0.6271\n"
          ]
        },
        {
          "output_type": "execute_result",
          "data": {
            "text/plain": [
              "[1.0931121110916138, 0.6270999908447266]"
            ]
          },
          "metadata": {},
          "execution_count": 60
        }
      ]
    },
    {
      "cell_type": "code",
      "source": [
        "y_pred_cnn = cnn.predict(x_test)\n",
        "y_pred_cnn1 = [np.argmax(i) for i in y_pred_cnn]\n",
        "print(classification_report(y_test, y_pred_cnn1))\n"
      ],
      "metadata": {
        "colab": {
          "base_uri": "https://localhost:8080/"
        },
        "id": "G02nCZw-PZHN",
        "outputId": "ab5e0120-1ba5-45d3-aae7-f172dbbee0fd"
      },
      "execution_count": 61,
      "outputs": [
        {
          "output_type": "stream",
          "name": "stdout",
          "text": [
            "              precision    recall  f1-score   support\n",
            "\n",
            "           0       0.62      0.74      0.67      1000\n",
            "           1       0.68      0.81      0.74      1000\n",
            "           2       0.46      0.56      0.50      1000\n",
            "           3       0.42      0.55      0.48      1000\n",
            "           4       0.77      0.28      0.41      1000\n",
            "           5       0.53      0.56      0.54      1000\n",
            "           6       0.82      0.65      0.72      1000\n",
            "           7       0.71      0.71      0.71      1000\n",
            "           8       0.75      0.77      0.76      1000\n",
            "           9       0.74      0.66      0.69      1000\n",
            "\n",
            "    accuracy                           0.63     10000\n",
            "   macro avg       0.65      0.63      0.62     10000\n",
            "weighted avg       0.65      0.63      0.62     10000\n",
            "\n"
          ]
        }
      ]
    },
    {
      "cell_type": "code",
      "source": [
        "#with cnn model the F1 score has imporved"
      ],
      "metadata": {
        "id": "wBLrVUaEQNUB"
      },
      "execution_count": null,
      "outputs": []
    },
    {
      "cell_type": "code",
      "source": [
        ""
      ],
      "metadata": {
        "id": "2pYfqApEO4VT"
      },
      "execution_count": null,
      "outputs": []
    },
    {
      "cell_type": "code",
      "source": [
        ""
      ],
      "metadata": {
        "id": "THlsof7POdh3"
      },
      "execution_count": null,
      "outputs": []
    },
    {
      "cell_type": "code",
      "source": [
        ""
      ],
      "metadata": {
        "id": "no0wjGC_M_dG"
      },
      "execution_count": null,
      "outputs": []
    },
    {
      "cell_type": "code",
      "source": [
        ""
      ],
      "metadata": {
        "id": "Z9Ci-gV2Ms2H"
      },
      "execution_count": null,
      "outputs": []
    },
    {
      "cell_type": "code",
      "source": [
        ""
      ],
      "metadata": {
        "id": "QXcZgE8LMozQ"
      },
      "execution_count": null,
      "outputs": []
    },
    {
      "cell_type": "code",
      "source": [
        ""
      ],
      "metadata": {
        "id": "ml1xb1g-KMsw"
      },
      "execution_count": null,
      "outputs": []
    },
    {
      "cell_type": "code",
      "source": [
        ""
      ],
      "metadata": {
        "id": "E7DJYwlWHmN_"
      },
      "execution_count": null,
      "outputs": []
    },
    {
      "cell_type": "code",
      "source": [
        ""
      ],
      "metadata": {
        "id": "uUuulo5_Hi3h"
      },
      "execution_count": null,
      "outputs": []
    },
    {
      "cell_type": "code",
      "source": [
        ""
      ],
      "metadata": {
        "id": "t-JNQ1_2HeMg"
      },
      "execution_count": null,
      "outputs": []
    },
    {
      "cell_type": "code",
      "source": [
        ""
      ],
      "metadata": {
        "id": "MNq8ADhBHWKe"
      },
      "execution_count": null,
      "outputs": []
    },
    {
      "cell_type": "code",
      "source": [
        ""
      ],
      "metadata": {
        "id": "UI6zOlLoDNsJ"
      },
      "execution_count": null,
      "outputs": []
    }
  ]
}